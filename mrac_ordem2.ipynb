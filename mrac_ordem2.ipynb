{
  "nbformat": 4,
  "nbformat_minor": 2,
  "metadata": {
    "colab": {
      "name": "mrac_segundaordem.ipynb",
      "provenance": [],
      "collapsed_sections": []
    },
    "kernelspec": {
      "name": "python3",
      "display_name": "Python 3.9.1 64-bit"
    },
    "language_info": {
      "name": "python",
      "version": "3.9.1",
      "mimetype": "text/x-python",
      "codemirror_mode": {
        "name": "ipython",
        "version": 3
      },
      "pygments_lexer": "ipython3",
      "nbconvert_exporter": "python",
      "file_extension": ".py"
    },
    "interpreter": {
      "hash": "63fd5069d213b44bf678585dea6b12cceca9941eaf7f819626cde1f2670de90d"
    }
  },
  "cells": [
    {
      "cell_type": "markdown",
      "source": [
        "Controlador MRAC aplicado a uma planta de segunda ordem, com grau relativo 1"
      ],
      "metadata": {
        "id": "sWVfBSCZJT0F"
      }
    },
    {
      "cell_type": "code",
      "execution_count": 10,
      "source": [
        "#all imports\r\n",
        "import numpy as np \r\n",
        "from numpy import linalg as LA\r\n",
        "import matplotlib.pyplot as plt\r\n",
        "from scipy import signal"
      ],
      "outputs": [],
      "metadata": {
        "id": "EyBXNGcdAJ7e"
      }
    },
    {
      "cell_type": "code",
      "execution_count": 11,
      "source": [
        "# system variables\r\n",
        "Ap, Bp, Cp = np.matrix([[0.8,0.8],[0,0.8]]), np.matrix([1, 1]), np.matrix([1, 1])\r\n",
        "Am, Bm, Cm = np.matrix([[0.2,0],[0,0.2]]), np.matrix([0.2, 0.2]), np.matrix([1, 1])"
      ],
      "outputs": [],
      "metadata": {
        "id": "8CfaffMfAfMn"
      }
    },
    {
      "cell_type": "code",
      "execution_count": 12,
      "source": [
        "# learning rate\r\n",
        "gamma = 100\r\n",
        "Mtheta = 0.014\r\n",
        "\r\n",
        "# simulation configs\r\n",
        "n_points = 500000\r\n",
        "t_f = 20"
      ],
      "outputs": [],
      "metadata": {
        "id": "B3Bt9BVDAoUp"
      }
    },
    {
      "cell_type": "code",
      "execution_count": 13,
      "source": [
        "# sempre theta1, theta2, thetay, thetar\r\n",
        "theta = np.zeros((n_points, 4))\r\n",
        "theta[0] = (0.001, 0.001, 0.001, 0.001)\r\n",
        "# sempre omega1, omega2, omegay, omegar \r\n",
        "omega = np.zeros((n_points, 4))\r\n",
        "\r\n",
        "# sys plant x_m\r\n",
        "x_m = np.zeros((n_points, 2))\r\n",
        "y_m = np.zeros((n_points, 1))\r\n",
        "# sys model x_p, y_p\r\n",
        "x_p = np.zeros((n_points, 2))\r\n",
        "# x_p[0] = [0.1,0.1]\r\n",
        "y_p = np.zeros((n_points, 1))\r\n",
        "# y_p[0] = 0.1\r\n",
        "\r\n",
        "# Comecando sempre w1, w2, ... , wn\r\n",
        "filtered_signal = np.zeros((n_points, 2))\r\n",
        "# error\r\n",
        "error = np.zeros((n_points, 1))"
      ],
      "outputs": [],
      "metadata": {
        "id": "iiiGTt7uAt74"
      }
    },
    {
      "cell_type": "code",
      "execution_count": 14,
      "source": [
        "# signal\r\n",
        "T, step = np.linspace(0, t_f, n_points, retstep=True)\r\n",
        "print(\"step: \", step)\r\n",
        "r = np.sin(0.2*np.pi*T)    #sinusoidal signal\r\n",
        "# r = signal.square(0.2 * np.pi * T) #square signal\r\n",
        "# r = signal.sawtooth(0.2 * np.pi * T) #sawtooth signal\r\n",
        "\r\n",
        "# control signal\r\n",
        "u = np.zeros((n_points, 1))\r\n",
        "norm = np.zeros((n_points, 1))\r\n",
        "sigma = np.zeros((n_points, 1))"
      ],
      "outputs": [
        {
          "output_type": "stream",
          "name": "stdout",
          "text": [
            "step:  4.000008000016e-05\n"
          ]
        }
      ],
      "metadata": {
        "id": "_B-TrWEGe9Ym",
        "colab": {
          "base_uri": "https://localhost:8080/"
        },
        "outputId": "2febffed-5ef4-4c98-8137-c2682a91bcd8"
      }
    },
    {
      "cell_type": "markdown",
      "source": [],
      "metadata": {
        "id": "-IyfA36cH1sU"
      }
    },
    {
      "cell_type": "code",
      "execution_count": 15,
      "source": [
        "F = 1\r\n",
        "q = 1\r\n",
        "Fd = 1-F*step\r\n",
        "qd=q*step"
      ],
      "outputs": [],
      "metadata": {
        "id": "4u29JN7lLHGQ"
      }
    },
    {
      "cell_type": "code",
      "execution_count": 16,
      "source": [
        "k = 10\r\n",
        "norm_theta = LA.norm(theta[k])\r\n",
        "sigmaeq = -gamma*error[k]*u[k]/(norm_theta**2)\r\n",
        "norm_theta"
      ],
      "outputs": [
        {
          "output_type": "stream",
          "name": "stderr",
          "text": [
            "C:\\Users\\queiroz\\AppData\\Local\\Temp/ipykernel_3064/3485988466.py:3: RuntimeWarning: invalid value encountered in true_divide\n",
            "  sigmaeq = -gamma*error[k]*u[k]/(norm_theta**2)\n"
          ]
        },
        {
          "output_type": "execute_result",
          "data": {
            "text/plain": [
              "0.0"
            ]
          },
          "metadata": {},
          "execution_count": 16
        }
      ],
      "metadata": {
        "colab": {
          "base_uri": "https://localhost:8080/"
        },
        "id": "vjnqmTqU7FML",
        "outputId": "783726de-3b09-418a-f2b6-a6315b23f474"
      }
    },
    {
      "cell_type": "code",
      "execution_count": 17,
      "source": [
        "# main loop\r\n",
        "for k, _ in enumerate(T):\r\n",
        "  if(k < n_points - 1):\r\n",
        "    # planta\r\n",
        "    x_p[k + 1] = Ap.dot(x_p[k]) + Bp.dot(float(u[k]))\r\n",
        "    y_p[k + 1] = Cp.dot(x_p[k])\r\n",
        "\r\n",
        "    # ref\r\n",
        "    x_m[k + 1] = Am.dot(x_m[k]) + Bm.dot(r[k])\r\n",
        "    y_m[k + 1] = Cm.dot(x_m[k])\r\n",
        "\r\n",
        "    # error \r\n",
        "    error[k] = y_p[k + 1] - y_m[k + 1]\r\n",
        "    theta[k + 1] = theta[k] - step*gamma*error[k]*omega[k]\r\n",
        "\r\n",
        "    # # omega é definido w1, w2, y, r\r\n",
        "    omega[k + 1][0] = omega[k][0]*Fd + qd*u[k]\r\n",
        "    omega[k + 1][1] = omega[k][1]*Fd + qd*y_m[k]\r\n",
        "    omega[k + 1][2] = float(y_m[k])\r\n",
        "    omega[k + 1][3] = r[k]\r\n",
        "\r\n",
        "    u[k + 1] = (theta[k].transpose()).dot(omega[k])\r\n",
        "    \r\n",
        "    "
      ],
      "outputs": [],
      "metadata": {
        "id": "uik9H52FfTmG"
      }
    },
    {
      "cell_type": "code",
      "execution_count": null,
      "source": [
        "#plots\r\n",
        "%matplotlib qt\r\n",
        "plt.rcParams['figure.figsize'] = [8, 5]\r\n",
        "fig, axs = plt.subplots(3)\r\n",
        "fig.subplots_adjust(hspace=0.65)\r\n",
        "axs[0].plot(T, y_p, label=\"y_p\")\r\n",
        "axs[0].plot(T, y_m, '--', label=\"y_m\")\r\n",
        "axs[0].legend()\r\n",
        "axs[0].set_title('Performance')\r\n",
        "\r\n",
        "axs[2].set_title('Erro da adaptação')\r\n",
        "axs[2].plot(T, error, label='Error')\r\n",
        "axs[2].legend()\r\n",
        "\r\n",
        "axs[1].set_title('Adaptação dos regressores')\r\n",
        "axs[1].plot(T, theta[:, 0], label='theta_w')\r\n",
        "axs[1].plot(T, theta[:, 1], label='theta_r')\r\n",
        "axs[1].plot(T, theta[:, 2], label='theta_1')\r\n",
        "axs[1].plot(T, theta[:, 3], label='theta_2')\r\n",
        "axs[1].legend()\r\n",
        "axs[0].grid()\r\n",
        "axs[1].grid()\r\n",
        "axs[2].grid()\r\n",
        "# axs[3].plot(T, norm, label=\"norma\")\r\n",
        "# axs[3].legend()\r\n",
        "\r\n",
        "plt.show()"
      ],
      "outputs": [],
      "metadata": {
        "colab": {
          "base_uri": "https://localhost:8080/",
          "height": 626
        },
        "id": "f8QYDNojoncX",
        "outputId": "e4d280f2-0d48-4d87-e66c-7f96c4f7ad22"
      }
    }
  ]
}