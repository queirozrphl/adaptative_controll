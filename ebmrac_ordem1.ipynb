{
 "cells": [
  {
   "cell_type": "code",
   "execution_count": 73,
   "source": [
    "#all imports\r\n",
    "import numpy as np \r\n",
    "from numpy import linalg as LA\r\n",
    "import matplotlib.pyplot as plt\r\n",
    "from scipy import signal"
   ],
   "outputs": [],
   "metadata": {}
  },
  {
   "cell_type": "code",
   "execution_count": 74,
   "source": [
    "# system variables\r\n",
    "Ap, Bp, Cp = 0.8, 1, 1\r\n",
    "Am, Bm, Cm = 0.2, 0.2, 1"
   ],
   "outputs": [],
   "metadata": {}
  },
  {
   "cell_type": "code",
   "execution_count": 75,
   "source": [
    "# learning rate\r\n",
    "gamma = 20"
   ],
   "outputs": [],
   "metadata": {}
  },
  {
   "cell_type": "code",
   "execution_count": 76,
   "source": [
    "# simulation configs\r\n",
    "n_points = 100000\r\n",
    "t_f = 30"
   ],
   "outputs": [],
   "metadata": {}
  },
  {
   "cell_type": "code",
   "execution_count": 77,
   "source": [
    "# initial conditions\r\n",
    "theta = np.zeros((n_points, 2))\r\n",
    "omega = np.zeros((n_points, 2))\r\n",
    "\r\n",
    "# sys plant x_m, y_m\r\n",
    "x_m = np.zeros((n_points, 1))\r\n",
    "y_m = np.zeros((n_points, 1))\r\n",
    "\r\n",
    "# sys model x_p, y_p\r\n",
    "x_p = np.zeros((n_points, 1))\r\n",
    "y_p = np.zeros((n_points, 1))\r\n",
    "\r\n",
    "#filtered signals\r\n",
    "f_r = np.zeros((n_points, 1))\r\n",
    "f_yp = np.zeros((n_points, 1))\r\n",
    "\r\n",
    "error = np.zeros((n_points, 1))\r\n",
    "error_aux = np.zeros((n_points, 1))\r\n",
    "\r\n",
    "norm = np.zeros((n_points, 1))\r\n",
    "sigma = np.zeros((n_points, 1))\r\n",
    "\r\n",
    "Mtheta = 0.14\r\n"
   ],
   "outputs": [],
   "metadata": {}
  },
  {
   "cell_type": "code",
   "execution_count": 78,
   "source": [
    "# signal\r\n",
    "T, step = np.linspace(0, t_f, n_points, retstep=True)\r\n",
    "print(\"step: \", step)\r\n",
    "# r = np.sin(0.2*np.pi*T)    #sinusoidal signal\r\n",
    "# r = signal.square(0.2 * np.pi * T) #square signal\r\n",
    "r = signal.sawtooth(0.2 * np.pi * T) #sawtooth signal\r\n",
    "# r = signal.step()\r\n",
    "# control signal\r\n",
    "u = np.zeros((n_points, 1))\r\n",
    "u_filter = np.zeros((n_points, 1))"
   ],
   "outputs": [
    {
     "output_type": "stream",
     "name": "stdout",
     "text": [
      "step:  0.0003000030000300003\n"
     ]
    }
   ],
   "metadata": {}
  },
  {
   "cell_type": "code",
   "execution_count": 79,
   "source": [
    "k = 0\r\n",
    "np.array([float(f_r[k+1]), float(f_yp[k+1])])\r\n"
   ],
   "outputs": [
    {
     "output_type": "execute_result",
     "data": {
      "text/plain": [
       "array([0., 0.])"
      ]
     },
     "metadata": {},
     "execution_count": 79
    }
   ],
   "metadata": {}
  },
  {
   "cell_type": "code",
   "execution_count": 80,
   "source": [
    "# Main loop simulation for mrac control\r\n",
    "K = 0.3\r\n",
    "for k, z in enumerate(T):\r\n",
    "    if(k < n_points - 1):\r\n",
    "        # planta\r\n",
    "        x_p[k + 1] = Ap*x_p[k] + Bp*u_filter[k]\r\n",
    "        y_p[k + 1] = Cp*x_p[k]\r\n",
    "        \r\n",
    "        # ref\r\n",
    "        x_m[k + 1] = Am*x_m[k] + Bm*r[k]\r\n",
    "        y_m[k + 1] = Cm*x_m[k]\r\n",
    "\r\n",
    "        # error \r\n",
    "        error[k] = y_p[k] - y_m[k]\r\n",
    "        error_aux[k] = K*0.2*(u_filter[k] - u[k])\r\n",
    "\r\n",
    "        norm_theta = LA.norm(theta[k])\r\n",
    "        norm[k + 1] = norm_theta\r\n",
    "        # print(norm_theta)\r\n",
    "        sigmaeq = -gamma*(error[k] - error_aux[k])*(theta[k]).dot(omega[k])/(norm_theta**2)\r\n",
    "        if norm_theta >= Mtheta and sigmaeq >= 0:\r\n",
    "            sigma[k] = sigmaeq\r\n",
    "        else:\r\n",
    "            sigmaeq = 0\r\n",
    "        theta[k + 1] = theta[k] + step*(-sigma[k]*theta[k] - gamma*error[k]*omega[k])\r\n",
    "        \r\n",
    "        #sinal y e r filtrados (filter r = f_r)\r\n",
    "        f_r[k + 1] = -0.83*f_r[k] + 1.81*r[k]\r\n",
    "        f_yp[k + 1] = -0.83*f_yp[k] + 1.81*y_p[k]\r\n",
    "        omega[k + 1] = np.array([float(f_r[k+1]), float(f_yp[k+1])])\r\n",
    "        \r\n",
    "        # sinal de controle\r\n",
    "        u[k + 1] =  np.sum(theta[k + 1]*np.array([r[k], -1*y_p[k]]))\r\n",
    "        u_filter[k + 1] = np.sum(theta[k + 1]*np.array([f_r[k], f_yp[k]]))\r\n",
    "\r\n"
   ],
   "outputs": [
    {
     "output_type": "stream",
     "name": "stderr",
     "text": [
      "C:\\Users\\queiroz\\AppData\\Local\\Temp/ipykernel_11464/709921915.py:20: RuntimeWarning: invalid value encountered in true_divide\n",
      "  sigmaeq = -gamma*(error[k] - error_aux[k])*(theta[k]).dot(omega[k])/(norm_theta**2)\n",
      "C:\\Users\\queiroz\\AppData\\Local\\Temp/ipykernel_11464/709921915.py:33: VisibleDeprecationWarning: Creating an ndarray from ragged nested sequences (which is a list-or-tuple of lists-or-tuples-or ndarrays with different lengths or shapes) is deprecated. If you meant to do this, you must specify 'dtype=object' when creating the ndarray\n",
      "  u[k + 1] =  np.sum(theta[k + 1]*np.array([r[k], -1*y_p[k]]))\n"
     ]
    }
   ],
   "metadata": {}
  },
  {
   "cell_type": "code",
   "execution_count": 81,
   "source": [
    "#plots\r\n",
    "%matplotlib qt \r\n",
    "\r\n",
    "plt.subplot(3,1,1)\r\n",
    "plt.plot(T, y_m, label=\"y_p\")\r\n",
    "plt.plot(T, y_p, label=\"y_m\")\r\n",
    "plt.legend()\r\n",
    "\r\n",
    "plt.subplot(3,1,2)\r\n",
    "# print(theta)\r\n",
    "# plt.plot(error, T, label=\"error\")\r\n",
    "plt.plot(T, theta[:, 0], label='theta_1')\r\n",
    "plt.plot(T, theta[:, 1], label='theta_2')\r\n",
    "plt.legend()\r\n",
    "\r\n",
    "# #plt.plot(z_a, error, label='error')\r\n",
    "plt.subplot(3,1,3)\r\n",
    "# print(theta)\r\n",
    "# plt.plot(r, label='control_sig')\r\n",
    "plt.plot(T, error, label=\"error\")\r\n",
    "# plt.plot(T, u, label='control_sig')\r\n",
    "plt.legend()\r\n",
    "plt.show()"
   ],
   "outputs": [],
   "metadata": {}
  }
 ],
 "metadata": {
  "orig_nbformat": 4,
  "language_info": {
   "name": "python",
   "version": "3.9.1",
   "mimetype": "text/x-python",
   "codemirror_mode": {
    "name": "ipython",
    "version": 3
   },
   "pygments_lexer": "ipython3",
   "nbconvert_exporter": "python",
   "file_extension": ".py"
  },
  "kernelspec": {
   "name": "python3",
   "display_name": "Python 3.9.1 64-bit"
  },
  "interpreter": {
   "hash": "63fd5069d213b44bf678585dea6b12cceca9941eaf7f819626cde1f2670de90d"
  }
 },
 "nbformat": 4,
 "nbformat_minor": 2
}